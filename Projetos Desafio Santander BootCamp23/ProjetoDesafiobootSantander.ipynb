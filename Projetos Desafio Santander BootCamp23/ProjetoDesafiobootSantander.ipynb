{
 "cells": [
  {
   "cell_type": "code",
   "execution_count": 22,
   "metadata": {},
   "outputs": [],
   "source": [
    "import csv"
   ]
  },
  {
   "cell_type": "code",
   "execution_count": 23,
   "metadata": {},
   "outputs": [],
   "source": [
    "with open('lista_ID.csv', mode='w', newline='') as file:\n",
    "    writer = csv.writer(file)\n",
    "    writer.writerow(['cliente', 'tipo_de_investidor', 'agencia', 'conta', 'saldo'])\n",
    "    writer.writerow(['João', 'conservador', '0001', '123456-1', 'R$100.000'])\n",
    "    writer.writerow(['José', 'moderado', '0002', '56789-0', 'R$100.000'])\n",
    "    writer.writerow(['Estevão', 'arrojado', '0003', '897654-1', 'R$100.000'])"
   ]
  },
  {
   "cell_type": "code",
   "execution_count": 24,
   "metadata": {},
   "outputs": [
    {
     "name": "stdout",
     "output_type": "stream",
     "text": [
      "cliente,tipo_de_investidor,agencia,conta,saldo\n",
      "João,conservador,0001,123456-1,R$100.000\n",
      "José,moderado,0002,56789-0,R$100.000\n",
      "Estevão,arrojado,0003,897654-1,R$100.000\n",
      "\n"
     ]
    }
   ],
   "source": [
    "# Mostrando o arquivo csv gerado\n",
    "with open(\"lista_ID.csv\", \"r\") as f:\n",
    "    print(f.read())"
   ]
  },
  {
   "cell_type": "code",
   "execution_count": 25,
   "metadata": {},
   "outputs": [],
   "source": [
    "dados = [\n",
    "    {'cliente': 'João', 'tipo_de_investidor': 'conservador', 'agencia': '0001', 'conta': '123456-1', 'saldo': 'R$100.000'},\n",
    "    {'cliente': 'José', 'tipo_de_investidor': 'moderado', 'agencia': '0002', 'conta': '56789-0', 'saldo': 'R$100.000'},\n",
    "    {'cliente': 'Estevão', 'tipo_de_investidor': 'arrojado', 'agencia': '0003', 'conta': '897654-1', 'saldo': 'R$100.000'}\n",
    "]\n"
   ]
  },
  {
   "cell_type": "code",
   "execution_count": 26,
   "metadata": {},
   "outputs": [],
   "source": [
    "import pandas as pd\n",
    "\n",
    "# Transformando a lista em um DataFrame do pandas\n",
    "df = pd.DataFrame(dados)\n",
    "\n",
    "# Criando um dicionário com as recomendações de investimento para cada tipo de investidor\n",
    "recomendacoes = {\n",
    "    \"conservador\": \"Recomendamos investir em títulos públicos e fundos de renda fixa.\",\n",
    "    \"moderado\": \"Recomendamos investir em fundos multimercado e ações.\",\n",
    "    \"arrojado\": \"Recomendamos investir em ações e fundos imobiliários.\"\n",
    "}"
   ]
  },
  {
   "cell_type": "code",
   "execution_count": 27,
   "metadata": {},
   "outputs": [
    {
     "data": {
      "text/html": [
       "<div>\n",
       "<style scoped>\n",
       "    .dataframe tbody tr th:only-of-type {\n",
       "        vertical-align: middle;\n",
       "    }\n",
       "\n",
       "    .dataframe tbody tr th {\n",
       "        vertical-align: top;\n",
       "    }\n",
       "\n",
       "    .dataframe thead th {\n",
       "        text-align: right;\n",
       "    }\n",
       "</style>\n",
       "<table border=\"1\" class=\"dataframe\">\n",
       "  <thead>\n",
       "    <tr style=\"text-align: right;\">\n",
       "      <th></th>\n",
       "      <th>cliente</th>\n",
       "      <th>tipo_de_investidor</th>\n",
       "      <th>agencia</th>\n",
       "      <th>conta</th>\n",
       "      <th>saldo</th>\n",
       "    </tr>\n",
       "  </thead>\n",
       "  <tbody>\n",
       "    <tr>\n",
       "      <th>0</th>\n",
       "      <td>João</td>\n",
       "      <td>conservador</td>\n",
       "      <td>0001</td>\n",
       "      <td>123456-1</td>\n",
       "      <td>R$100.000</td>\n",
       "    </tr>\n",
       "    <tr>\n",
       "      <th>1</th>\n",
       "      <td>José</td>\n",
       "      <td>moderado</td>\n",
       "      <td>0002</td>\n",
       "      <td>56789-0</td>\n",
       "      <td>R$100.000</td>\n",
       "    </tr>\n",
       "    <tr>\n",
       "      <th>2</th>\n",
       "      <td>Estevão</td>\n",
       "      <td>arrojado</td>\n",
       "      <td>0003</td>\n",
       "      <td>897654-1</td>\n",
       "      <td>R$100.000</td>\n",
       "    </tr>\n",
       "  </tbody>\n",
       "</table>\n",
       "</div>"
      ],
      "text/plain": [
       "   cliente tipo_de_investidor agencia     conta      saldo\n",
       "0     João        conservador    0001  123456-1  R$100.000\n",
       "1     José           moderado    0002   56789-0  R$100.000\n",
       "2  Estevão           arrojado    0003  897654-1  R$100.000"
      ]
     },
     "execution_count": 27,
     "metadata": {},
     "output_type": "execute_result"
    }
   ],
   "source": [
    "df.head()"
   ]
  },
  {
   "cell_type": "code",
   "execution_count": 28,
   "metadata": {},
   "outputs": [],
   "source": [
    "# Adicionando uma coluna com as recomendações de investimento para cada cliente\n",
    "df[\"recomendacao\"] = df[\"tipo_de_investidor\"].apply(lambda x: recomendacoes[x])"
   ]
  },
  {
   "cell_type": "code",
   "execution_count": 29,
   "metadata": {},
   "outputs": [],
   "source": [
    "# Transformando o DataFrame em uma lista de dicionários\n",
    "lista = df.to_dict(orient=\"records\")"
   ]
  },
  {
   "cell_type": "code",
   "execution_count": 30,
   "metadata": {},
   "outputs": [
    {
     "name": "stdout",
     "output_type": "stream",
     "text": [
      "Recomendações para investidores conservador:\n",
      "Recomendamos investir em títulos públicos e fundos de renda fixa.\n",
      "\n",
      "Recomendações para investidores moderado:\n",
      "Recomendamos investir em fundos multimercado e ações.\n",
      "\n",
      "Recomendações para investidores arrojado:\n",
      "Recomendamos investir em ações e fundos imobiliários.\n",
      "\n"
     ]
    }
   ],
   "source": [
    "# Mostrando as recomendações para cada tipo de investidor\n",
    "for tipo in recomendacoes:\n",
    "    print(f\"Recomendações para investidores {tipo}:\")\n",
    "    print(df[df[\"tipo_de_investidor\"] == tipo][\"recomendacao\"].iloc[0])\n",
    "    print()"
   ]
  },
  {
   "cell_type": "code",
   "execution_count": 31,
   "metadata": {},
   "outputs": [],
   "source": [
    "# Salvando e tranformando a lista em um arquivo JSON\n",
    "import json\n",
    "with open(\"dados.json\", \"w\") as f:\n",
    "    json.dump(lista, f)"
   ]
  },
  {
   "cell_type": "code",
   "execution_count": 32,
   "metadata": {},
   "outputs": [
    {
     "name": "stdout",
     "output_type": "stream",
     "text": [
      "[{\"cliente\": \"Jo\\u00e3o\", \"tipo_de_investidor\": \"conservador\", \"agencia\": \"0001\", \"conta\": \"123456-1\", \"saldo\": \"R$100.000\", \"recomendacao\": \"Recomendamos investir em t\\u00edtulos p\\u00fablicos e fundos de renda fixa.\"}, {\"cliente\": \"Jos\\u00e9\", \"tipo_de_investidor\": \"moderado\", \"agencia\": \"0002\", \"conta\": \"56789-0\", \"saldo\": \"R$100.000\", \"recomendacao\": \"Recomendamos investir em fundos multimercado e a\\u00e7\\u00f5es.\"}, {\"cliente\": \"Estev\\u00e3o\", \"tipo_de_investidor\": \"arrojado\", \"agencia\": \"0003\", \"conta\": \"897654-1\", \"saldo\": \"R$100.000\", \"recomendacao\": \"Recomendamos investir em a\\u00e7\\u00f5es e fundos imobili\\u00e1rios.\"}]\n"
     ]
    }
   ],
   "source": [
    "# Mostre o arquivo JSON gerado\n",
    "with open(\"dados.json\", \"r\") as f:\n",
    "    print(f.read())"
   ]
  }
 ],
 "metadata": {
  "kernelspec": {
   "display_name": "Python 3",
   "language": "python",
   "name": "python3"
  },
  "language_info": {
   "codemirror_mode": {
    "name": "ipython",
    "version": 3
   },
   "file_extension": ".py",
   "mimetype": "text/x-python",
   "name": "python",
   "nbconvert_exporter": "python",
   "pygments_lexer": "ipython3",
   "version": "3.11.1"
  },
  "orig_nbformat": 4
 },
 "nbformat": 4,
 "nbformat_minor": 2
}
